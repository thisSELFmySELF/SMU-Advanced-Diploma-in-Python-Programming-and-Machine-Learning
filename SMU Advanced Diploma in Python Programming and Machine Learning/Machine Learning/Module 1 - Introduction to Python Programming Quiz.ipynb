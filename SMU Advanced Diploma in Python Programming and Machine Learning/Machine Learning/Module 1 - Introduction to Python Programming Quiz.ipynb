{
 "cells": [
  {
   "cell_type": "markdown",
   "metadata": {
    "id": "OIMlRi1PvKPo"
   },
   "source": [
    "# **Introduction to Python Progamming QUIZ**"
   ]
  },
  {
   "cell_type": "markdown",
   "metadata": {
    "id": "cgspIptMvHgQ"
   },
   "source": [
    "**Instructions**\n",
    "\n",
    "**Make a copy of this notebook.**\n",
    "\n",
    "**Rename the notebook to *your_name - IPP Quiz*.**\n",
    "\n",
    "There are 10 questions in this quiz. Please attempt all questions. You may refer to the course materials, the internet and any resources you encounter. Discussions are welcomed, but you have to submit an individual answer notebook."
   ]
  },
  {
   "cell_type": "markdown",
   "metadata": {
    "id": "zdTVFVukwpiI"
   },
   "source": [
    "**Q1.** Given a dictionary: \n",
    "\n",
    "d = {\n",
    "  'one':1,\n",
    "  'two':2,\n",
    "  'three':3,\n",
    "  'four':4\n",
    "  }\n",
    "\n",
    "Indicate the statement that will print ‘4’ in the output\n"
   ]
  },
  {
   "cell_type": "code",
   "execution_count": 1,
   "metadata": {
    "colab": {
     "base_uri": "https://localhost:8080/"
    },
    "id": "WMpoMo2fvGr1",
    "outputId": "a475894d-cb05-47ad-851f-9350560c37a6"
   },
   "outputs": [
    {
     "name": "stdout",
     "output_type": "stream",
     "text": [
      "4\n"
     ]
    }
   ],
   "source": [
    "d = {\n",
    "  'one':1,\n",
    "  'two':2,\n",
    "  'three':3,\n",
    "  'four':4\n",
    "  }\n",
    "\n",
    "# Write your answer for Q1 here\n",
    "print(d['four'])"
   ]
  },
  {
   "cell_type": "markdown",
   "metadata": {
    "id": "QR_3O6P5xgNh"
   },
   "source": [
    "**Q2.** What are the datatypes for the three variables below?\n",
    "\n",
    "(string, integer or float?)\n",
    "\n",
    "W = 'haha'\n",
    "\n",
    "X = 98.56\n",
    "\n",
    "Y = “2”\n",
    "\n",
    "Z = 3"
   ]
  },
  {
   "cell_type": "code",
   "execution_count": 2,
   "metadata": {
    "id": "RZhC70kvx8SZ"
   },
   "outputs": [
    {
     "ename": "NameError",
     "evalue": "name 'string' is not defined",
     "output_type": "error",
     "traceback": [
      "\u001b[0;31m---------------------------------------------------------------------------\u001b[0m",
      "\u001b[0;31mNameError\u001b[0m                                 Traceback (most recent call last)",
      "Input \u001b[0;32mIn [2]\u001b[0m, in \u001b[0;36m<cell line: 2>\u001b[0;34m()\u001b[0m\n\u001b[1;32m      1\u001b[0m \u001b[38;5;66;03m# Write your answer for Q2 here\u001b[39;00m\n\u001b[0;32m----> 2\u001b[0m W: \u001b[43mstring\u001b[49m\n\u001b[1;32m      3\u001b[0m X: \u001b[38;5;28mfloat\u001b[39m\n\u001b[1;32m      4\u001b[0m Y: string\n",
      "\u001b[0;31mNameError\u001b[0m: name 'string' is not defined"
     ]
    }
   ],
   "source": [
    "# # Write your answer for Q2 here\n",
    "# W: string\n",
    "# X: float\n",
    "# Y: string\n",
    "# Z: integer"
   ]
  },
  {
   "cell_type": "markdown",
   "metadata": {
    "id": "ca8aOYuKyEVL"
   },
   "source": [
    "**Q3.** Which of the following is (are) mutable (unlocked)?\n",
    "\n",
    "A = [1, 2, 3]\n",
    "\n",
    "B = (2, 3, 4)\n",
    "\n",
    "C = {3, 4, 5}\n",
    "\n",
    "D = ‘4, 5, 6’"
   ]
  },
  {
   "cell_type": "code",
   "execution_count": null,
   "metadata": {
    "id": "hO-6XajVyWDP"
   },
   "outputs": [],
   "source": [
    "# Write your answer for Q3 here\n",
    "A & C"
   ]
  },
  {
   "cell_type": "markdown",
   "metadata": {
    "id": "H6DcCXkXybFg"
   },
   "source": [
    "**Q4.** Write a function that computes X to the power of Y, given number X and Y, and call the function to check if it's correct."
   ]
  },
  {
   "cell_type": "code",
   "execution_count": null,
   "metadata": {
    "colab": {
     "base_uri": "https://localhost:8080/"
    },
    "id": "n7qed0XBzNZ7",
    "outputId": "4d63b3aa-0adc-47d1-915c-27c489657f2c"
   },
   "outputs": [],
   "source": [
    "def powerfunc(X, Y):\n",
    "  # Write your answer for Q4 here\n",
    "  return X**Y\n",
    "  # return pow(X, Y)\n",
    "\n",
    "# to test if it works\n",
    "X = 2\n",
    "Y = 2\n",
    "\n",
    "print('The function works:', powerfunc(X, Y) == 4)\n",
    "assert powerfunc(X, Y) == 4"
   ]
  },
  {
   "cell_type": "markdown",
   "metadata": {
    "id": "uF_jw5li_dv4"
   },
   "source": [
    "**Qn 5.** Let x = 0. Write the code that gives the output below by only printing x.\n",
    "\n",
    "0\n",
    "\n",
    "2\n",
    "\n",
    "4\n",
    "\n",
    "6\n",
    "\n",
    "8\n"
   ]
  },
  {
   "cell_type": "code",
   "execution_count": null,
   "metadata": {
    "colab": {
     "base_uri": "https://localhost:8080/"
    },
    "id": "L2mioQuV_8wu",
    "outputId": "6afd1f2f-6650-48bd-ee37-9a1729e35711"
   },
   "outputs": [],
   "source": [
    "x = 0\n",
    "\n",
    "# Write your answer for Q5 here\n",
    "for x in range(9):\n",
    "    if x % 2 == 0:\n",
    "        print(x)\n",
    "        print()\n",
    "        \n",
    "# while x <= 8:\n",
    "#     print(x)\n",
    "#         x += 2"
   ]
  },
  {
   "cell_type": "markdown",
   "metadata": {
    "id": "dBeuP43uCHJZ"
   },
   "source": [
    "**Qn 6.** Let s = “animal-horse”\n",
    "Write the code that results in [‘animal’, ’horse’]"
   ]
  },
  {
   "cell_type": "code",
   "execution_count": null,
   "metadata": {
    "colab": {
     "base_uri": "https://localhost:8080/"
    },
    "id": "C-qWHm5fCPqY",
    "outputId": "cf5be3a4-a391-4ed5-bc1a-69ec05de2ac8"
   },
   "outputs": [],
   "source": [
    "s = 'animal-horse'\n",
    "\n",
    "# Write your answer for Q6 here\n",
    "print(s.split(\"-\"))"
   ]
  },
  {
   "cell_type": "markdown",
   "metadata": {
    "id": "W5pnCariCirf"
   },
   "source": [
    "**Qn 7.** Assuming today’s humidity is 0.8025. Write the expression that will show the information in the format:\n",
    "\n",
    "*Today’s humidity is \n",
    "<value of humidity in percentage with 2 decimal places> %*\n"
   ]
  },
  {
   "cell_type": "code",
   "execution_count": null,
   "metadata": {
    "colab": {
     "base_uri": "https://localhost:8080/"
    },
    "id": "BbgoaNv3DCYj",
    "outputId": "bb5d7a3e-2f97-4acb-eac7-415d116fe58a"
   },
   "outputs": [],
   "source": [
    "h = 0.8025\n",
    "\n",
    "# Write your answer for Q7 here\n",
    "print(f\"Today’s humidity is {h * 100 :.02f}%\")"
   ]
  },
  {
   "cell_type": "markdown",
   "metadata": {
    "id": "z8NCHyYsDjMl"
   },
   "source": [
    "**Qn 8.** There are two strings:\n",
    "\n",
    "string1 = ‘dogs are extremely annoyed by cats”,\n",
    "\n",
    "string2: ‘cats are extremely crazy and are easily annoyed’\n",
    "\n",
    "Tokenize the strings and use the set() operation and evaluate the intersection of the 2 sets using what have been covered in the notes."
   ]
  },
  {
   "cell_type": "code",
   "execution_count": null,
   "metadata": {
    "colab": {
     "base_uri": "https://localhost:8080/"
    },
    "id": "yes5Fv4GD20Q",
    "outputId": "f14c61c0-4e68-4e22-e170-24710c4021bb"
   },
   "outputs": [],
   "source": [
    "string1 = 'dogs are extremely annoyed by cats'\n",
    "string2 = 'cats are extremely crazy and are easily annoyed'\n",
    "\n",
    "# Write your answer for Q8 here\n",
    "str1_no_duplicates = set(string1.split())\n",
    "# print(str1_no_duplicates)\n",
    "\n",
    "str2_no_duplicates = set(string2.split())\n",
    "# print(str2_no_duplicates)\n",
    "\n",
    "answer = str1_no_duplicates.intersection(str2_no_duplicates)\n",
    "print(answer)\n",
    "\n",
    "# set(string1.split()) & set(string2.split())"
   ]
  },
  {
   "cell_type": "markdown",
   "metadata": {
    "id": "GNoQtCEsF6y8"
   },
   "source": [
    "**Qn 9.** Let s = 'we are in smu taking a python programming course in smu academy with smu adjunct faculty!'\n",
    " \n",
    "Write a pythonic list comprehension that gives a list of words within string s that are longer than word_length = 4\n"
   ]
  },
  {
   "cell_type": "code",
   "execution_count": null,
   "metadata": {
    "colab": {
     "base_uri": "https://localhost:8080/"
    },
    "id": "zqVfOTqd94Xm",
    "outputId": "32ada67f-13f3-40c5-bd55-fbbe9b324620"
   },
   "outputs": [],
   "source": [
    "s = 'we are in smu taking a python programming course in smu academy with smu adjunct faculty!'\n",
    "word_length = 4\n",
    "\n",
    "# Write your answer for Q9 here\n",
    "print([x for x in s.split() if len(x) > word_length])"
   ]
  },
  {
   "cell_type": "markdown",
   "metadata": {
    "id": "LwZS0sVDGML1"
   },
   "source": [
    "**Qn. 10** Let SolarSystem = [('Saturn', 'large'), ('Mars', 'medium'),            ('Earth', 'medium'),              ('Mercury', 'small')]\n",
    "\n",
    "The above variable is considered a list. Write a piece of code that makes the variable into a dictionary and print the entire dictionary.\n"
   ]
  },
  {
   "cell_type": "code",
   "execution_count": null,
   "metadata": {
    "colab": {
     "base_uri": "https://localhost:8080/"
    },
    "id": "eN92mnmv-d-t",
    "outputId": "b22686de-8832-47e1-a86c-332161a9e13e"
   },
   "outputs": [],
   "source": [
    "SolarSystem = [('Saturn', 'large'),\n",
    "               ('Mars', 'medium'),\n",
    "               ('Earth', 'medium'),\n",
    "               ('Mercury', 'small')]\n",
    "\n",
    "dic = {}\n",
    "for name, value in SolarSystem:\n",
    "     dic[name] = value\n",
    "\n",
    "print(f\"The SolarSystem data in dictionary format are as follows : {dic}\")\n"
   ]
  },
  {
   "cell_type": "markdown",
   "metadata": {
    "id": "SECbhoOFmBlw"
   },
   "source": [
    "# **Challenge** (OPTIONAL)"
   ]
  },
  {
   "cell_type": "markdown",
   "metadata": {
    "id": "fnAWNxwoJkGs"
   },
   "source": [
    "This challenge aims to build a basic sentiment scorer using python.\n",
    "The objective is to calculate the sentiment score for each of the 5 paragraphs below.\n",
    "\n",
    "Your task:\n",
    "\n",
    "1.   Create a reusable python function to clean the paragraphs into usable tokens.\n",
    "2.   Read in the **sentiments.p** file and use it as the base dictionary to decide if a word is positive, negative or neutral\n",
    "3.   Compute the sentiment score for each paragraph (no. of positive words / no. of positive + no. of negative words. Exclude neutral words in the calculation.)\n",
    "\n",
    "**Identify the paragraphs with the highest sentiment score, and the lowest sentiment score.**\n",
    "\n",
    "\\* **The sentiments.p file is available in the [data folder](https://bit.ly/pcml_data).** \n",
    "\n"
   ]
  },
  {
   "cell_type": "code",
   "execution_count": null,
   "metadata": {
    "id": "BTAi5jpEozq6"
   },
   "outputs": [],
   "source": [
    "para1 = \"Despite the COVID-19 outbreak, the Economic Development Board (EDB) has in the first four months of this year secured about S$13 billion in investment commitments for the “next few years”, Trade and Industry Minister Chan Chun Sing said. This “very good performance” means Singapore has exceeded the S$8 billion to S$10 billion which had been projected for the whole of 2020. These investments, in sectors including electronics and infocomm, will generate “a few thousand jobs” for workers in Singapore in the coming years, Mr Chan told reporters during a media briefing on Saturday (May 30). Companies such as chipmaker Micron and life sciences firm Thermo Fisher Scientific are adding jobs, he said.\"\n",
    "para2 = \"The private consortium behind the Singapore Grand Prix is in discussions with the global franchise to assess whether it is still possible to hold the Singapore leg of the Formula One (F1) night race this year amid the Covid-19 pandemic, said Trade and Industry Minister Chan Chun Sing on Saturday (May 30). There are contractual issues that will have to be ironed out and studies to be done to help make the final assessment, he said. When asked by the media during an interview held via video-conferencing platform Zoom if he could confirm whether the annual F1 race would be held this year, Mr Chan said discussions are ongoing, and that an announcement will be made in the coming week.\"\n",
    "para3 = \"Talks are under way with South Korea and Australia to establish “green lanes” for travel in the Covid-19 environment, said Trade and Industry Minister Chan Chun Sing. Singapore is also having such discussions with New Zealand and Malaysia, while China on Friday became the first country to establish a green lane with the Republic. Mr Chan said Singapore is in simultaneous discussions with “as many countries as possible” on forming green lanes, and that such discussions are taking place on a bilateral level, not a multilateral one. “We are happy that we have been able to swiftly work on arrangements with China, and we hope to make progress with the rest of the countries,” he said. Such arrangements allow for the restoration of connectivity and facilitation of short-term essential business and official travel between countries, subject to safeguards against the coronavirus.\"\n",
    "para4 = \"The Elections Department (ELD) cannot “prematurely” announce the rules and regulations relating to the next General Election as these may be overtaken by “events”, Minister for Trade and Industry Chan Chun Sing said on Saturday (May 30). Speaking at a media briefing, he said: “ELD is fully aware of the competing needs. On one hand, ELD would like to make available the information to the parties and the candidates as early as possible for them to make the preparations. On the other hand, ELD has to work under the challenging constraint that there are many scenarios.” This comes after the Workers' Party had on Thursday called on the Government to “publish election campaign rules forthwith”, asking for more clarity on how campaigning might be affected by the COVID-19 pandemic. Singapore's next General Election must be held by Apr 14, 2021.\"\n",
    "para5 = \"Just six months ago, South Korean pop darling IU belted out her hits to a packed hall at The Star Theatre over two days. But with the coronavirus, such days of sell-out K-pop concerts are over, at least for a while, possibly rendering concert organisers dispensable. Live shows have been banned around the world to curb the Covid-19 outbreak, and many entertainers have moved to streaming their performances online. Recently, German football league Bundesliga returned to action with games played in empty stadiums and live streamed to fans. Citing these developments, Trade and Industry Minister Chan Chun Sing said the entertainment industry is among those that will require a new business model as the pandemic refashions the economy. “Fundamentally, the demand has changed, and perhaps people's way of life also is going to change,” said Mr Chan, as he outlined the sectors that Singapore should invest in and attract, as well as those that need to change.\"\n"
   ]
  },
  {
   "cell_type": "code",
   "execution_count": null,
   "metadata": {
    "colab": {
     "base_uri": "https://localhost:8080/"
    },
    "id": "Al9XMdhFoh5M",
    "outputId": "86aba4a5-319c-4be8-c12d-f14f0a1324ec"
   },
   "outputs": [],
   "source": [
    "# Import required modules\n",
    "import string\n",
    "import nltk\n",
    "from nltk.corpus import stopwords\n",
    "\n",
    "# Download stopwords data\n",
    "nltk.download('stopwords')"
   ]
  },
  {
   "cell_type": "code",
   "execution_count": null,
   "metadata": {
    "colab": {
     "base_uri": "https://localhost:8080/",
     "height": 35
    },
    "id": "zl89dlxrQi1H",
    "outputId": "5d7a8bdc-46c5-4428-c9b4-f96283c787c3"
   },
   "outputs": [],
   "source": [
    "string.punctuation"
   ]
  },
  {
   "cell_type": "code",
   "execution_count": null,
   "metadata": {},
   "outputs": [],
   "source": [
    "stopwords.words('english')"
   ]
  },
  {
   "cell_type": "markdown",
   "metadata": {
    "id": "3kz6S8rY0WYT"
   },
   "source": [
    "## Task 1 \n",
    "\n",
    "We will be performing the following steps: data preprocessing, data cleaning, data munging, or data wrangling. \n",
    "\n",
    "**Your task (Part 1):**\n",
    "\n",
    "Create a function called `tokenise` that takes in a parameter called `text`. Your function would perform the following data manipulation with the input text:\n",
    "\n",
    "1. Remove all punctuations, empty tokens, and 1 character tokens\n",
    "2. Remove all stopwords as defined in nltk\n",
    "3. Lower case all tokens\n",
    "4. Return unique tokens\n",
    "\n",
    "**Your task (Part 2):**\n",
    "\n",
    "1. Pack all paragraphs into a tuple for easier processing\n",
    "2. Using the built-in `map` function, apply the `tokenise` function to all paragraphs and store it as a list of lists.\n",
    "3. Store the results in a variable labelled - `all_tokenised`\n"
   ]
  },
  {
   "cell_type": "code",
   "execution_count": null,
   "metadata": {
    "id": "yvyJvkEZJjMJ"
   },
   "outputs": [],
   "source": [
    "# Clean a paragraph into tokens\n",
    "def tokenise(text):\n",
    "    \"\"\" This function takes in a text string and\n",
    "        1. remove all punctuations, empty tokens, and 1 character tokens\n",
    "        2. remove all stopwords as defined in nltk\n",
    "        3. lower case all tokens\n",
    "        4. return unique tokens\n",
    "    \"\"\"\n",
    "    # First, remove all punctuations\n",
    "    for punc in string.punctuation:\n",
    "        text = text.replace(punc, \" \")\n",
    "    \n",
    "    # remove empty tokens, tokens with 1 character, stopwords, then lower case them\n",
    "    stop_words = stopwords.words('english')\n",
    "    tokens = [token.lower() for token in text.split(' ') if len(token) > 1 and token.lower() not in stop_words]\n",
    "    \n",
    "    # return only unique tokens\n",
    "    return set(tokens)"
   ]
  },
  {
   "cell_type": "code",
   "execution_count": null,
   "metadata": {
    "id": "dZQANeZx-D4P"
   },
   "outputs": [],
   "source": [
    "# Pack all paragraphs into a tuple for easier processing\n",
    "all_paragraphs = [para1, para2, para3, para4, para5]"
   ]
  },
  {
   "cell_type": "code",
   "execution_count": null,
   "metadata": {},
   "outputs": [],
   "source": [
    "tokenise(para1)"
   ]
  },
  {
   "cell_type": "code",
   "execution_count": null,
   "metadata": {
    "colab": {
     "base_uri": "https://localhost:8080/"
    },
    "id": "8myW0NjD-Z3i",
    "outputId": "3273636a-6c55-433b-af67-e3124da91382"
   },
   "outputs": [],
   "source": [
    "# use map to convert all paras into tokens within the all_paragraphs collection\n",
    "all_tokenised = list(map(tokenise, all_paragraphs))\n",
    "\n",
    "# check 1 sample\n",
    "print(f'Tokens for first paragraph: {all_tokenised[0]}')"
   ]
  },
  {
   "cell_type": "markdown",
   "metadata": {
    "id": "Vf0ngRQbnbgZ"
   },
   "source": [
    "## Task 2 \n",
    "\n",
    "1. Download `sentiments.p` from the shared folder to your local computer.\n",
    "2. Upload the file to the google colab runtime.\n",
    "3. Read the `sentiments.p` file to extract all the words associated with positive and negative sentiments."
   ]
  },
  {
   "cell_type": "code",
   "execution_count": null,
   "metadata": {
    "colab": {
     "base_uri": "https://localhost:8080/"
    },
    "id": "GJCnoXRknkJC",
    "outputId": "46b9febc-e669-4426-ae4a-ff585ce84403"
   },
   "outputs": [],
   "source": [
    "import pickle\n",
    "\n",
    "# file_path = '/content/sentiments.p'\n",
    "file_path = 'sentiments.p'\n",
    "# To open or save to a file via Pickle, we need to explicitly name\n",
    "# a filepath, and add a 2nd argument ('wb', 'rb'). 'wb' is write access,\n",
    "# 'rb' is read access.\n",
    "with open(file_path, 'rb') as output_file:\n",
    "    sentiment_dictionary = pickle.load(output_file)\n",
    "\n",
    "print(f'These are the keys in the sentiments dictionary: {sentiment_dictionary.keys()}')\n",
    "print(f\"There are the words associated with positivity: {sentiment_dictionary['positive']}\")"
   ]
  },
  {
   "cell_type": "markdown",
   "metadata": {
    "id": "qKO1_rXC7X2i"
   },
   "source": [
    "## Task 3\n",
    "\n",
    "For task 3, we will create a reusable function that calculates the sentiment score\n",
    "\n",
    "Steps:\n",
    "\n",
    "1.   Feed the tokenised paragraph into the function\n",
    "2.   For each token, check whether its positive or negative\n",
    "3.   Have a positive and negative word count\n",
    "4.   Compute sentiment score as positive_count/non-neutral word count\n",
    "5.   Apply the function to all the text samples\n"
   ]
  },
  {
   "cell_type": "code",
   "execution_count": null,
   "metadata": {
    "colab": {
     "base_uri": "https://localhost:8080/"
    },
    "id": "TAruk_68R3ng",
    "outputId": "711afaa1-bcaa-4589-b31b-fb110bd6babd"
   },
   "outputs": [],
   "source": [
    "# from google.colab import drive\n",
    "# drive.mount('/content/drive')"
   ]
  },
  {
   "cell_type": "code",
   "execution_count": null,
   "metadata": {
    "id": "YFsqdLaNudLg"
   },
   "outputs": [],
   "source": [
    "def sentiment_score(tokens, sentiment_dictionary):\n",
    "    \"\"\" This function takes in 2 arguments\n",
    "        1. A list of tokens\n",
    "        2. A sentiment dictionary in the format {'positive' : [words], 'negative': [words]}\n",
    "\n",
    "        and returns a sentiment score calculated as positive_count/(positive + negative count)\n",
    "    \"\"\"\n",
    "\n",
    "    # Create counter for positive and negative words\n",
    "    positive_count = 0\n",
    "    negative_count = 0\n",
    "\n",
    "    # run a lopp with if-else statements to add to positive and negative counter\n",
    "    # If token is neither positive or negative, continue with the next token\n",
    "    for token in tokens:\n",
    "        if token in sentiment_dictionary['positive']:\n",
    "            positive_count += 1\n",
    "        elif token in sentiment_dictionary['negative']:\n",
    "            negative_count += 1\n",
    "        else:\n",
    "            continue\n",
    "    \n",
    "    # count total non-neutral tokens\n",
    "    non_neutral_count = positive_count + negative_count\n",
    "    \n",
    "    # compute sentiment score\n",
    "    sentiment_score = positive_count / non_neutral_count\n",
    "\n",
    "    return sentiment_score"
   ]
  },
  {
   "cell_type": "code",
   "execution_count": null,
   "metadata": {},
   "outputs": [],
   "source": [
    "sentiment_dictionary['positive']"
   ]
  },
  {
   "cell_type": "code",
   "execution_count": null,
   "metadata": {
    "colab": {
     "base_uri": "https://localhost:8080/"
    },
    "id": "FXAn5pihACof",
    "outputId": "f16d41e5-b6dd-4932-d5ef-c95715d4a4d1"
   },
   "outputs": [],
   "source": [
    "# Test the function with the first tokenised sample\n",
    "score = sentiment_score(all_tokenised[0], sentiment_dictionary)\n",
    "print(f'The sentiment score for the first tokenised sample is {score:0.2f} or {score * 100:0.2f}%.')"
   ]
  },
  {
   "cell_type": "code",
   "execution_count": null,
   "metadata": {},
   "outputs": [],
   "source": [
    "print(len(all_tokenised))"
   ]
  },
  {
   "cell_type": "code",
   "execution_count": null,
   "metadata": {
    "colab": {
     "base_uri": "https://localhost:8080/"
    },
    "id": "pTmgdbyTCNlG",
    "outputId": "55c2a162-8bc8-4cae-faa7-316c97e27927"
   },
   "outputs": [],
   "source": [
    "# Apply the function to all the samples\n",
    "# use Python list comprehension\n",
    "\n",
    "# For every para in the list of paras, return and call the sentiment score function\n",
    "\n",
    "all_para_scored = [sentiment_score(tokens, sentiment_dictionary) for tokens in all_tokenised]\n",
    "print(f'The sentiment scores for the paragraphs are {all_para_scored}.')\n",
    "\n",
    "# Perform some analytics\n",
    "max_score = max(all_para_scored)\n",
    "min_score = min(all_para_scored)\n",
    "\n",
    "# We use the .index built-in function to find the index position of the respective paragraphs\n",
    "print(f'The highest sentiment score is {max_score} for para {all_para_scored.index(max_score)}')\n",
    "print(f'The lowest sentiment score is {min_score} for para {all_para_scored.index(min_score)}')"
   ]
  }
 ],
 "metadata": {
  "colab": {
   "provenance": []
  },
  "kernelspec": {
   "display_name": "Python 3 (ipykernel)",
   "language": "python",
   "name": "python3"
  },
  "language_info": {
   "codemirror_mode": {
    "name": "ipython",
    "version": 3
   },
   "file_extension": ".py",
   "mimetype": "text/x-python",
   "name": "python",
   "nbconvert_exporter": "python",
   "pygments_lexer": "ipython3",
   "version": "3.10.4"
  }
 },
 "nbformat": 4,
 "nbformat_minor": 1
}
