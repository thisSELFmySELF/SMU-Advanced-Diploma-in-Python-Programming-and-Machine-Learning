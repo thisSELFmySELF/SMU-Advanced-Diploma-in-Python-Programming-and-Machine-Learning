{
  "cells": [
    {
      "cell_type": "markdown",
      "metadata": {
        "id": "OIMlRi1PvKPo"
      },
      "source": [
        "# STE Quiz"
      ]
    },
    {
      "cell_type": "markdown",
      "metadata": {
        "id": "cgspIptMvHgQ"
      },
      "source": [
        "**Instructions**\n",
        "\n",
        "**Make a copy of this notebook.**\n",
        "\n",
        "**Rename the notebook to *your_name - STE Quiz*.**\n",
        "\n",
        "There are 12 questions in this quiz. Please attempt all questions. You may refer to the course materials, the internet and any resources you encounter. Discussions are welcomed, but you have to submit an individual answer notebook."
      ]
    },
    {
      "cell_type": "markdown",
      "metadata": {
        "id": "zdTVFVukwpiI"
      },
      "source": [
        "**Q1.** We can use pandas' mean or numpy's mean to calculate the mean of a series of numbers. It is good practice to replicate a ready-made function with our own, when we want to understand the function in details.\n",
        "\n",
        "Write a function named *own_mean()*that calculates the mean of a series of numbers, without using any of the ready made mean functions. \n",
        "\n",
        "Given a series of numbers: \n",
        "series_x = [5, 5, 4, 6, 1, 7, 9, 3, 5, 2]\n",
        "\n",
        "Call own_mean() on series_x and use the assert statement to check if the answer is 4.7."
      ]
    },
    {
      "cell_type": "code",
      "execution_count": 44,
      "metadata": {
        "id": "WMpoMo2fvGr1"
      },
      "outputs": [],
      "source": [
        "series_x = [5, 5, 4, 6, 1, 7, 9, 3, 5, 2]\n",
        "\n",
        "# Write your answer for Q1 here\n",
        "def own_mean(x):\n",
        "  \n",
        "    return sum(x) / len(x)\n",
        "\n",
        "result = own_mean(series_x)\n",
        "\n",
        "assert result == 4.7"
      ]
    },
    {
      "cell_type": "markdown",
      "metadata": {
        "id": "QR_3O6P5xgNh"
      },
      "source": [
        "**Q2.** Do the same as in Q1, but this time write a function named *own_median()* that calculates the median of a series of numbers. \n",
        "\n",
        "*hint: you need to sort the series first. You can use sorted()\n",
        "\n",
        "Call own_median on series_y and use the assert statement to check if the median of the series is 5.0.\n",
        "\n",
        "Given series_y = [5, 5, 4, 6, 1, 7, 2, 9, 3, 5]"
      ]
    },
    {
      "cell_type": "code",
      "execution_count": 45,
      "metadata": {
        "id": "RZhC70kvx8SZ"
      },
      "outputs": [],
      "source": [
        "series_y = [5, 5, 4, 6, 1, 7, 2, 9, 3, 5]\n",
        "\n",
        "# Write your answer for Q2 here\n",
        "# hint: to sort your list, use the function sorted()\n",
        "# you can use np.sort() too\n",
        "# have to account for odd and even count of values\n",
        "\n",
        "def own_median(lt):\n",
        "    \n",
        "    num_sort = sorted(lt)\n",
        "    n = len(num_sort)\n",
        "\n",
        "    if n % 2 == 1 :\n",
        "        return num_sort[n // 2]\n",
        "    \n",
        "    else :\n",
        "        mid = n // 2\n",
        "        return (num_sort[mid - 1] + num_sort[mid]) / 2\n",
        "    \n",
        "result = own_median(series_y)\n",
        "\n",
        "assert result == 5.0"
      ]
    },
    {
      "cell_type": "markdown",
      "metadata": {
        "id": "ca8aOYuKyEVL"
      },
      "source": [
        "**Q3.** What is the probability of winning the Toto group 7 (3 correct numbers) when you buy a system 7? \n",
        "\n",
        "System 7 means you buy 7 numbers. \n",
        "\n"
      ]
    },
    {
      "cell_type": "code",
      "execution_count": 46,
      "metadata": {
        "id": "hO-6XajVyWDP",
        "colab": {
          "base_uri": "https://localhost:8080/"
        },
        "outputId": "e2532c03-e3b5-4a58-9abe-1681ed182937"
      },
      "outputs": [
        {
          "output_type": "stream",
          "name": "stdout",
          "text": [
            "Chance to win Group one is 1 in 13983816.\n",
            "Chance to win Group 7 is 1 in 60.90512195121951\n",
            "The chance to win Group 7 with a system 7 is 1 in 8.700731707317074\n"
          ]
        }
      ],
      "source": [
        "from itertools import combinations \n",
        "# Write your answer for Q3 here\n",
        "\n",
        "# group 1 probability\n",
        "g1 = len(list(combinations(range(49), 6)))\n",
        "print(f'Chance to win Group one is 1 in {g1}.')\n",
        "\n",
        "# Group 7 probability\n",
        "g7_3 = len(list(combinations(range(6), 3)))\n",
        "\n",
        "# choose 3 numbers from th erest of 43 numbers that are not winning numbers\n",
        "g7_miss = len(list(combinations(range(43), 3)))\n",
        "\n",
        "# There is also a 40 out of 43 chance that we do not get the additional number\n",
        "g7_noadd = g7_miss * (40 / 43)\n",
        "\n",
        "# to get to number of unique combinations, take the total number\n",
        "g7 = (g1 / (g7_3 * g7_noadd))\n",
        "print(f'Chance to win Group 7 is 1 in {g7}')\n",
        "\n",
        "# System 7\n",
        "# Chance to win group 7\n",
        "s7_g1 = g7 / len(list(combinations(range(7), 6)))\n",
        "print(f'The chance to win Group 7 with a system 7 is 1 in {s7_g1}')"
      ]
    },
    {
      "cell_type": "markdown",
      "metadata": {
        "id": "H6DcCXkXybFg"
      },
      "source": [
        "**Q4.** There's a dataset named **sgtoto_hist.csv** regarding historical toto results. Please load the dataset to google colab and create a Pandas dataframe containing all the data.\n",
        "\n",
        "These are the descriptions of th variables/fields/features of the dataset:\n",
        "\n",
        "* **Draw**: Index of draw, consecutive for each draw.\n",
        "* **Date**: Date of draw\n",
        "* **WN1** to **WN6**: First to sixth winning number\n",
        "* **Add_Num**: Additional number\n",
        "* **Odd**: Number of odd numbers in WN1 to WN6\n",
        "* **Even**: Number of even numbers in WN1 to WN6\n",
        "* **1-10**: Number of numbers that is from 1 to 10\n",
        "* **11-20**: Number of numbers that is from 11 to 20\n",
        "* **21-30**: Number of numbers that is from 21 to 30\n",
        "* **31-40**: Number of numbers that is from 31 to 40\n",
        "* **41-50**: Number of numbers that is from 41 to 50\n",
        "* **GroupX_Winners**: Number of winners in Group X (1, 2, 3, 4, 5, 6, 7)\n",
        "* **GroupX_Prize**: Amount of prize won per winner in each Group X (1, 2, 3, 4, 5, 6, 7)\n"
      ]
    },
    {
      "cell_type": "code",
      "execution_count": 47,
      "metadata": {
        "id": "o7kGAOvPhUOO",
        "colab": {
          "base_uri": "https://localhost:8080/"
        },
        "outputId": "4d1c5641-6100-45b8-b7b1-eef29b3ad193"
      },
      "outputs": [
        {
          "output_type": "stream",
          "name": "stdout",
          "text": [
            "Drive already mounted at /content/drive; to attempt to forcibly remount, call drive.mount(\"/content/drive\", force_remount=True).\n"
          ]
        }
      ],
      "source": [
        "from google.colab import drive\n",
        "drive.mount('/content/drive')"
      ]
    },
    {
      "cell_type": "code",
      "execution_count": 48,
      "metadata": {
        "id": "n7qed0XBzNZ7",
        "colab": {
          "base_uri": "https://localhost:8080/",
          "height": 300
        },
        "outputId": "2e4acf4a-f24d-481d-a223-cb295fb8ee49"
      },
      "outputs": [
        {
          "output_type": "execute_result",
          "data": {
            "text/plain": [
              "   Draw       Date  WN1  WN2  WN3  WN4  WN5  WN6  Add_Num  Odd  ...  \\\n",
              "0  3733  1/24/2022    1    8   10   31   32   38       39    2  ...   \n",
              "1  3732  1/21/2022    2    4   11   13   28   38       49    2  ...   \n",
              "2  3731  1/17/2022    4   13   26   31   33   35       29    4  ...   \n",
              "3  3730  1/13/2022    3    6   18   20   26   35       34    2  ...   \n",
              "4  3729  1/10/2022    8   11   17   21   30   44       48    3  ...   \n",
              "\n",
              "   g3_winners  g3_prize  g4_winners  g4_prize  g5_winners  g5_prize  \\\n",
              "0       156.0    1118.0       246.0     387.0      6622.0      50.0   \n",
              "1       542.0    1377.0      1121.0     363.0     26065.0      50.0   \n",
              "2       120.0    1629.0       267.0     400.0      5603.0      50.0   \n",
              "3       119.0    1487.0       200.0     483.0      6641.0      50.0   \n",
              "4       575.0    1439.0      1392.0     325.0     29819.0      50.0   \n",
              "\n",
              "   g6_winners  g6_prize  g7_winners  g7_prize  \n",
              "0      6633.0      25.0    115576.0      10.0  \n",
              "1     29592.0      25.0    459376.0      10.0  \n",
              "2      7667.0      25.0    104575.0      10.0  \n",
              "3      6137.0      25.0    114953.0      10.0  \n",
              "4     35336.0      25.0    517225.0      10.0  \n",
              "\n",
              "[5 rows x 30 columns]"
            ],
            "text/html": [
              "\n",
              "  <div id=\"df-70ebf82b-3ed3-41b8-8b40-b27b63eca9f2\">\n",
              "    <div class=\"colab-df-container\">\n",
              "      <div>\n",
              "<style scoped>\n",
              "    .dataframe tbody tr th:only-of-type {\n",
              "        vertical-align: middle;\n",
              "    }\n",
              "\n",
              "    .dataframe tbody tr th {\n",
              "        vertical-align: top;\n",
              "    }\n",
              "\n",
              "    .dataframe thead th {\n",
              "        text-align: right;\n",
              "    }\n",
              "</style>\n",
              "<table border=\"1\" class=\"dataframe\">\n",
              "  <thead>\n",
              "    <tr style=\"text-align: right;\">\n",
              "      <th></th>\n",
              "      <th>Draw</th>\n",
              "      <th>Date</th>\n",
              "      <th>WN1</th>\n",
              "      <th>WN2</th>\n",
              "      <th>WN3</th>\n",
              "      <th>WN4</th>\n",
              "      <th>WN5</th>\n",
              "      <th>WN6</th>\n",
              "      <th>Add_Num</th>\n",
              "      <th>Odd</th>\n",
              "      <th>...</th>\n",
              "      <th>g3_winners</th>\n",
              "      <th>g3_prize</th>\n",
              "      <th>g4_winners</th>\n",
              "      <th>g4_prize</th>\n",
              "      <th>g5_winners</th>\n",
              "      <th>g5_prize</th>\n",
              "      <th>g6_winners</th>\n",
              "      <th>g6_prize</th>\n",
              "      <th>g7_winners</th>\n",
              "      <th>g7_prize</th>\n",
              "    </tr>\n",
              "  </thead>\n",
              "  <tbody>\n",
              "    <tr>\n",
              "      <th>0</th>\n",
              "      <td>3733</td>\n",
              "      <td>1/24/2022</td>\n",
              "      <td>1</td>\n",
              "      <td>8</td>\n",
              "      <td>10</td>\n",
              "      <td>31</td>\n",
              "      <td>32</td>\n",
              "      <td>38</td>\n",
              "      <td>39</td>\n",
              "      <td>2</td>\n",
              "      <td>...</td>\n",
              "      <td>156.0</td>\n",
              "      <td>1118.0</td>\n",
              "      <td>246.0</td>\n",
              "      <td>387.0</td>\n",
              "      <td>6622.0</td>\n",
              "      <td>50.0</td>\n",
              "      <td>6633.0</td>\n",
              "      <td>25.0</td>\n",
              "      <td>115576.0</td>\n",
              "      <td>10.0</td>\n",
              "    </tr>\n",
              "    <tr>\n",
              "      <th>1</th>\n",
              "      <td>3732</td>\n",
              "      <td>1/21/2022</td>\n",
              "      <td>2</td>\n",
              "      <td>4</td>\n",
              "      <td>11</td>\n",
              "      <td>13</td>\n",
              "      <td>28</td>\n",
              "      <td>38</td>\n",
              "      <td>49</td>\n",
              "      <td>2</td>\n",
              "      <td>...</td>\n",
              "      <td>542.0</td>\n",
              "      <td>1377.0</td>\n",
              "      <td>1121.0</td>\n",
              "      <td>363.0</td>\n",
              "      <td>26065.0</td>\n",
              "      <td>50.0</td>\n",
              "      <td>29592.0</td>\n",
              "      <td>25.0</td>\n",
              "      <td>459376.0</td>\n",
              "      <td>10.0</td>\n",
              "    </tr>\n",
              "    <tr>\n",
              "      <th>2</th>\n",
              "      <td>3731</td>\n",
              "      <td>1/17/2022</td>\n",
              "      <td>4</td>\n",
              "      <td>13</td>\n",
              "      <td>26</td>\n",
              "      <td>31</td>\n",
              "      <td>33</td>\n",
              "      <td>35</td>\n",
              "      <td>29</td>\n",
              "      <td>4</td>\n",
              "      <td>...</td>\n",
              "      <td>120.0</td>\n",
              "      <td>1629.0</td>\n",
              "      <td>267.0</td>\n",
              "      <td>400.0</td>\n",
              "      <td>5603.0</td>\n",
              "      <td>50.0</td>\n",
              "      <td>7667.0</td>\n",
              "      <td>25.0</td>\n",
              "      <td>104575.0</td>\n",
              "      <td>10.0</td>\n",
              "    </tr>\n",
              "    <tr>\n",
              "      <th>3</th>\n",
              "      <td>3730</td>\n",
              "      <td>1/13/2022</td>\n",
              "      <td>3</td>\n",
              "      <td>6</td>\n",
              "      <td>18</td>\n",
              "      <td>20</td>\n",
              "      <td>26</td>\n",
              "      <td>35</td>\n",
              "      <td>34</td>\n",
              "      <td>2</td>\n",
              "      <td>...</td>\n",
              "      <td>119.0</td>\n",
              "      <td>1487.0</td>\n",
              "      <td>200.0</td>\n",
              "      <td>483.0</td>\n",
              "      <td>6641.0</td>\n",
              "      <td>50.0</td>\n",
              "      <td>6137.0</td>\n",
              "      <td>25.0</td>\n",
              "      <td>114953.0</td>\n",
              "      <td>10.0</td>\n",
              "    </tr>\n",
              "    <tr>\n",
              "      <th>4</th>\n",
              "      <td>3729</td>\n",
              "      <td>1/10/2022</td>\n",
              "      <td>8</td>\n",
              "      <td>11</td>\n",
              "      <td>17</td>\n",
              "      <td>21</td>\n",
              "      <td>30</td>\n",
              "      <td>44</td>\n",
              "      <td>48</td>\n",
              "      <td>3</td>\n",
              "      <td>...</td>\n",
              "      <td>575.0</td>\n",
              "      <td>1439.0</td>\n",
              "      <td>1392.0</td>\n",
              "      <td>325.0</td>\n",
              "      <td>29819.0</td>\n",
              "      <td>50.0</td>\n",
              "      <td>35336.0</td>\n",
              "      <td>25.0</td>\n",
              "      <td>517225.0</td>\n",
              "      <td>10.0</td>\n",
              "    </tr>\n",
              "  </tbody>\n",
              "</table>\n",
              "<p>5 rows × 30 columns</p>\n",
              "</div>\n",
              "      <button class=\"colab-df-convert\" onclick=\"convertToInteractive('df-70ebf82b-3ed3-41b8-8b40-b27b63eca9f2')\"\n",
              "              title=\"Convert this dataframe to an interactive table.\"\n",
              "              style=\"display:none;\">\n",
              "        \n",
              "  <svg xmlns=\"http://www.w3.org/2000/svg\" height=\"24px\"viewBox=\"0 0 24 24\"\n",
              "       width=\"24px\">\n",
              "    <path d=\"M0 0h24v24H0V0z\" fill=\"none\"/>\n",
              "    <path d=\"M18.56 5.44l.94 2.06.94-2.06 2.06-.94-2.06-.94-.94-2.06-.94 2.06-2.06.94zm-11 1L8.5 8.5l.94-2.06 2.06-.94-2.06-.94L8.5 2.5l-.94 2.06-2.06.94zm10 10l.94 2.06.94-2.06 2.06-.94-2.06-.94-.94-2.06-.94 2.06-2.06.94z\"/><path d=\"M17.41 7.96l-1.37-1.37c-.4-.4-.92-.59-1.43-.59-.52 0-1.04.2-1.43.59L10.3 9.45l-7.72 7.72c-.78.78-.78 2.05 0 2.83L4 21.41c.39.39.9.59 1.41.59.51 0 1.02-.2 1.41-.59l7.78-7.78 2.81-2.81c.8-.78.8-2.07 0-2.86zM5.41 20L4 18.59l7.72-7.72 1.47 1.35L5.41 20z\"/>\n",
              "  </svg>\n",
              "      </button>\n",
              "      \n",
              "  <style>\n",
              "    .colab-df-container {\n",
              "      display:flex;\n",
              "      flex-wrap:wrap;\n",
              "      gap: 12px;\n",
              "    }\n",
              "\n",
              "    .colab-df-convert {\n",
              "      background-color: #E8F0FE;\n",
              "      border: none;\n",
              "      border-radius: 50%;\n",
              "      cursor: pointer;\n",
              "      display: none;\n",
              "      fill: #1967D2;\n",
              "      height: 32px;\n",
              "      padding: 0 0 0 0;\n",
              "      width: 32px;\n",
              "    }\n",
              "\n",
              "    .colab-df-convert:hover {\n",
              "      background-color: #E2EBFA;\n",
              "      box-shadow: 0px 1px 2px rgba(60, 64, 67, 0.3), 0px 1px 3px 1px rgba(60, 64, 67, 0.15);\n",
              "      fill: #174EA6;\n",
              "    }\n",
              "\n",
              "    [theme=dark] .colab-df-convert {\n",
              "      background-color: #3B4455;\n",
              "      fill: #D2E3FC;\n",
              "    }\n",
              "\n",
              "    [theme=dark] .colab-df-convert:hover {\n",
              "      background-color: #434B5C;\n",
              "      box-shadow: 0px 1px 3px 1px rgba(0, 0, 0, 0.15);\n",
              "      filter: drop-shadow(0px 1px 2px rgba(0, 0, 0, 0.3));\n",
              "      fill: #FFFFFF;\n",
              "    }\n",
              "  </style>\n",
              "\n",
              "      <script>\n",
              "        const buttonEl =\n",
              "          document.querySelector('#df-70ebf82b-3ed3-41b8-8b40-b27b63eca9f2 button.colab-df-convert');\n",
              "        buttonEl.style.display =\n",
              "          google.colab.kernel.accessAllowed ? 'block' : 'none';\n",
              "\n",
              "        async function convertToInteractive(key) {\n",
              "          const element = document.querySelector('#df-70ebf82b-3ed3-41b8-8b40-b27b63eca9f2');\n",
              "          const dataTable =\n",
              "            await google.colab.kernel.invokeFunction('convertToInteractive',\n",
              "                                                     [key], {});\n",
              "          if (!dataTable) return;\n",
              "\n",
              "          const docLinkHtml = 'Like what you see? Visit the ' +\n",
              "            '<a target=\"_blank\" href=https://colab.research.google.com/notebooks/data_table.ipynb>data table notebook</a>'\n",
              "            + ' to learn more about interactive tables.';\n",
              "          element.innerHTML = '';\n",
              "          dataTable['output_type'] = 'display_data';\n",
              "          await google.colab.output.renderOutput(dataTable, element);\n",
              "          const docLink = document.createElement('div');\n",
              "          docLink.innerHTML = docLinkHtml;\n",
              "          element.appendChild(docLink);\n",
              "        }\n",
              "      </script>\n",
              "    </div>\n",
              "  </div>\n",
              "  "
            ]
          },
          "metadata": {},
          "execution_count": 48
        }
      ],
      "source": [
        "# import pandas\n",
        "import pandas as pd\n",
        "import os\n",
        "\n",
        "# To check what is the directory listing, we use the built-in function .listdir\n",
        "os.listdir('/content/drive')\n",
        "\n",
        "# The data we want to load is stored in '/content/drive/pcml_data/2STE' and the file name is called sgtoto_hist.csv\n",
        "folder_path = '/content/drive/My Drive/pcml_data/2STE'\n",
        "os.listdir('/content/drive/My Drive/pcml_data/2STE')\n",
        "\n",
        "# sgtoto_hist.csv is the file that we want\n",
        "file_path = folder_path + '/sgtoto_hist.csv'\n",
        "\n",
        "# Write your answer for Q4 here\n",
        "\n",
        "# read_csv\n",
        "df = pd.read_csv(file_path)\n",
        "# use head()\n",
        "df.head()"
      ]
    },
    {
      "cell_type": "markdown",
      "metadata": {
        "id": "-QHGzH310c3n"
      },
      "source": [
        "**Qn 5.**\n",
        "\n",
        "Convert all the column names to lowercase (remember IPP)."
      ]
    },
    {
      "cell_type": "code",
      "execution_count": 49,
      "metadata": {
        "id": "0fzzQ7lu02RT"
      },
      "outputs": [],
      "source": [
        "# Write your answer for Q5 here\n",
        "df.columns = df.columns.str.lower()"
      ]
    },
    {
      "cell_type": "markdown",
      "metadata": {
        "id": "Oh0DPGIN0pej"
      },
      "source": [
        "**Qn 6.**\n",
        "\n",
        "Convert the **date** column to pandas datetime. \n",
        "How will you show that it is indeed pandas datetime?"
      ]
    },
    {
      "cell_type": "code",
      "source": [
        "# Write your answer for Q6 here\n",
        "\n",
        "df['date'] = df.date.apply(pd.to_datetime)\n",
        "\n",
        "# display the resulting date type\n",
        "print(df['date'].dtype)"
      ],
      "metadata": {
        "colab": {
          "base_uri": "https://localhost:8080/"
        },
        "id": "rMIuEuoWDX3_",
        "outputId": "2a92f186-740a-447b-b650-f1bd91e419b2"
      },
      "execution_count": 50,
      "outputs": [
        {
          "output_type": "stream",
          "name": "stdout",
          "text": [
            "datetime64[ns]\n"
          ]
        }
      ]
    },
    {
      "cell_type": "markdown",
      "metadata": {
        "id": "G_vxCnHr0_Dd"
      },
      "source": [
        "**Qn 7.**\n",
        "\n",
        "Remove all draws before 7 Oct 2014 as it was a different [format](https://www.todayonline.com/singapore/larger-jackpot-more-prizes-toto-oct-7). \n",
        "\n",
        "Show the last 5 records to check if it's later than 7 Oct 2014."
      ]
    },
    {
      "cell_type": "code",
      "source": [
        "# Write your answer for Q7 here\n",
        "\n",
        "df = df[df['date'] >= '2014-10-07'] \n",
        "df.tail()"
      ],
      "metadata": {
        "colab": {
          "base_uri": "https://localhost:8080/",
          "height": 300
        },
        "id": "6YS04fo0DZG6",
        "outputId": "c30ab190-6299-4a6d-94e3-c8c2269582e6"
      },
      "execution_count": 51,
      "outputs": [
        {
          "output_type": "execute_result",
          "data": {
            "text/plain": [
              "     draw       date  wn1  wn2  wn3  wn4  wn5  wn6  add_num  odd  ...  \\\n",
              "734  2999 2014-10-23    5   22   25   28   33   34       32    3  ...   \n",
              "735  2998 2014-10-20    8   11   17   21   41   49       35    5  ...   \n",
              "736  2997 2014-10-16    4    9   31   34   40   44       35    2  ...   \n",
              "737  2996 2014-10-13   19   28   31   43   45   48       41    4  ...   \n",
              "738  2995 2014-10-09   11   12   25   28   34   47       15    3  ...   \n",
              "\n",
              "     g3_winners  g3_prize  g4_winners  g4_prize  g5_winners  g5_prize  \\\n",
              "734        64.0    2162.0       178.0     424.0      4705.0      50.0   \n",
              "735       166.0    1435.0       350.0     372.0      8404.0      50.0   \n",
              "736        83.0    1974.0       216.0     414.0      5635.0      50.0   \n",
              "737        61.0    2436.0       108.0     751.0      3414.0      50.0   \n",
              "738        95.0    2028.0       239.0     440.0      5400.0      50.0   \n",
              "\n",
              "     g6_winners  g6_prize  g7_winners  g7_prize  \n",
              "734      5774.0      25.0     81579.0      10.0  \n",
              "735      9021.0      25.0    148908.0      10.0  \n",
              "736      5731.0      25.0     90370.0      10.0  \n",
              "737      4846.0      25.0     69704.0      10.0  \n",
              "738      7553.0      25.0    102478.0      10.0  \n",
              "\n",
              "[5 rows x 30 columns]"
            ],
            "text/html": [
              "\n",
              "  <div id=\"df-c9d75530-e55c-45b1-883d-0a3afe375f80\">\n",
              "    <div class=\"colab-df-container\">\n",
              "      <div>\n",
              "<style scoped>\n",
              "    .dataframe tbody tr th:only-of-type {\n",
              "        vertical-align: middle;\n",
              "    }\n",
              "\n",
              "    .dataframe tbody tr th {\n",
              "        vertical-align: top;\n",
              "    }\n",
              "\n",
              "    .dataframe thead th {\n",
              "        text-align: right;\n",
              "    }\n",
              "</style>\n",
              "<table border=\"1\" class=\"dataframe\">\n",
              "  <thead>\n",
              "    <tr style=\"text-align: right;\">\n",
              "      <th></th>\n",
              "      <th>draw</th>\n",
              "      <th>date</th>\n",
              "      <th>wn1</th>\n",
              "      <th>wn2</th>\n",
              "      <th>wn3</th>\n",
              "      <th>wn4</th>\n",
              "      <th>wn5</th>\n",
              "      <th>wn6</th>\n",
              "      <th>add_num</th>\n",
              "      <th>odd</th>\n",
              "      <th>...</th>\n",
              "      <th>g3_winners</th>\n",
              "      <th>g3_prize</th>\n",
              "      <th>g4_winners</th>\n",
              "      <th>g4_prize</th>\n",
              "      <th>g5_winners</th>\n",
              "      <th>g5_prize</th>\n",
              "      <th>g6_winners</th>\n",
              "      <th>g6_prize</th>\n",
              "      <th>g7_winners</th>\n",
              "      <th>g7_prize</th>\n",
              "    </tr>\n",
              "  </thead>\n",
              "  <tbody>\n",
              "    <tr>\n",
              "      <th>734</th>\n",
              "      <td>2999</td>\n",
              "      <td>2014-10-23</td>\n",
              "      <td>5</td>\n",
              "      <td>22</td>\n",
              "      <td>25</td>\n",
              "      <td>28</td>\n",
              "      <td>33</td>\n",
              "      <td>34</td>\n",
              "      <td>32</td>\n",
              "      <td>3</td>\n",
              "      <td>...</td>\n",
              "      <td>64.0</td>\n",
              "      <td>2162.0</td>\n",
              "      <td>178.0</td>\n",
              "      <td>424.0</td>\n",
              "      <td>4705.0</td>\n",
              "      <td>50.0</td>\n",
              "      <td>5774.0</td>\n",
              "      <td>25.0</td>\n",
              "      <td>81579.0</td>\n",
              "      <td>10.0</td>\n",
              "    </tr>\n",
              "    <tr>\n",
              "      <th>735</th>\n",
              "      <td>2998</td>\n",
              "      <td>2014-10-20</td>\n",
              "      <td>8</td>\n",
              "      <td>11</td>\n",
              "      <td>17</td>\n",
              "      <td>21</td>\n",
              "      <td>41</td>\n",
              "      <td>49</td>\n",
              "      <td>35</td>\n",
              "      <td>5</td>\n",
              "      <td>...</td>\n",
              "      <td>166.0</td>\n",
              "      <td>1435.0</td>\n",
              "      <td>350.0</td>\n",
              "      <td>372.0</td>\n",
              "      <td>8404.0</td>\n",
              "      <td>50.0</td>\n",
              "      <td>9021.0</td>\n",
              "      <td>25.0</td>\n",
              "      <td>148908.0</td>\n",
              "      <td>10.0</td>\n",
              "    </tr>\n",
              "    <tr>\n",
              "      <th>736</th>\n",
              "      <td>2997</td>\n",
              "      <td>2014-10-16</td>\n",
              "      <td>4</td>\n",
              "      <td>9</td>\n",
              "      <td>31</td>\n",
              "      <td>34</td>\n",
              "      <td>40</td>\n",
              "      <td>44</td>\n",
              "      <td>35</td>\n",
              "      <td>2</td>\n",
              "      <td>...</td>\n",
              "      <td>83.0</td>\n",
              "      <td>1974.0</td>\n",
              "      <td>216.0</td>\n",
              "      <td>414.0</td>\n",
              "      <td>5635.0</td>\n",
              "      <td>50.0</td>\n",
              "      <td>5731.0</td>\n",
              "      <td>25.0</td>\n",
              "      <td>90370.0</td>\n",
              "      <td>10.0</td>\n",
              "    </tr>\n",
              "    <tr>\n",
              "      <th>737</th>\n",
              "      <td>2996</td>\n",
              "      <td>2014-10-13</td>\n",
              "      <td>19</td>\n",
              "      <td>28</td>\n",
              "      <td>31</td>\n",
              "      <td>43</td>\n",
              "      <td>45</td>\n",
              "      <td>48</td>\n",
              "      <td>41</td>\n",
              "      <td>4</td>\n",
              "      <td>...</td>\n",
              "      <td>61.0</td>\n",
              "      <td>2436.0</td>\n",
              "      <td>108.0</td>\n",
              "      <td>751.0</td>\n",
              "      <td>3414.0</td>\n",
              "      <td>50.0</td>\n",
              "      <td>4846.0</td>\n",
              "      <td>25.0</td>\n",
              "      <td>69704.0</td>\n",
              "      <td>10.0</td>\n",
              "    </tr>\n",
              "    <tr>\n",
              "      <th>738</th>\n",
              "      <td>2995</td>\n",
              "      <td>2014-10-09</td>\n",
              "      <td>11</td>\n",
              "      <td>12</td>\n",
              "      <td>25</td>\n",
              "      <td>28</td>\n",
              "      <td>34</td>\n",
              "      <td>47</td>\n",
              "      <td>15</td>\n",
              "      <td>3</td>\n",
              "      <td>...</td>\n",
              "      <td>95.0</td>\n",
              "      <td>2028.0</td>\n",
              "      <td>239.0</td>\n",
              "      <td>440.0</td>\n",
              "      <td>5400.0</td>\n",
              "      <td>50.0</td>\n",
              "      <td>7553.0</td>\n",
              "      <td>25.0</td>\n",
              "      <td>102478.0</td>\n",
              "      <td>10.0</td>\n",
              "    </tr>\n",
              "  </tbody>\n",
              "</table>\n",
              "<p>5 rows × 30 columns</p>\n",
              "</div>\n",
              "      <button class=\"colab-df-convert\" onclick=\"convertToInteractive('df-c9d75530-e55c-45b1-883d-0a3afe375f80')\"\n",
              "              title=\"Convert this dataframe to an interactive table.\"\n",
              "              style=\"display:none;\">\n",
              "        \n",
              "  <svg xmlns=\"http://www.w3.org/2000/svg\" height=\"24px\"viewBox=\"0 0 24 24\"\n",
              "       width=\"24px\">\n",
              "    <path d=\"M0 0h24v24H0V0z\" fill=\"none\"/>\n",
              "    <path d=\"M18.56 5.44l.94 2.06.94-2.06 2.06-.94-2.06-.94-.94-2.06-.94 2.06-2.06.94zm-11 1L8.5 8.5l.94-2.06 2.06-.94-2.06-.94L8.5 2.5l-.94 2.06-2.06.94zm10 10l.94 2.06.94-2.06 2.06-.94-2.06-.94-.94-2.06-.94 2.06-2.06.94z\"/><path d=\"M17.41 7.96l-1.37-1.37c-.4-.4-.92-.59-1.43-.59-.52 0-1.04.2-1.43.59L10.3 9.45l-7.72 7.72c-.78.78-.78 2.05 0 2.83L4 21.41c.39.39.9.59 1.41.59.51 0 1.02-.2 1.41-.59l7.78-7.78 2.81-2.81c.8-.78.8-2.07 0-2.86zM5.41 20L4 18.59l7.72-7.72 1.47 1.35L5.41 20z\"/>\n",
              "  </svg>\n",
              "      </button>\n",
              "      \n",
              "  <style>\n",
              "    .colab-df-container {\n",
              "      display:flex;\n",
              "      flex-wrap:wrap;\n",
              "      gap: 12px;\n",
              "    }\n",
              "\n",
              "    .colab-df-convert {\n",
              "      background-color: #E8F0FE;\n",
              "      border: none;\n",
              "      border-radius: 50%;\n",
              "      cursor: pointer;\n",
              "      display: none;\n",
              "      fill: #1967D2;\n",
              "      height: 32px;\n",
              "      padding: 0 0 0 0;\n",
              "      width: 32px;\n",
              "    }\n",
              "\n",
              "    .colab-df-convert:hover {\n",
              "      background-color: #E2EBFA;\n",
              "      box-shadow: 0px 1px 2px rgba(60, 64, 67, 0.3), 0px 1px 3px 1px rgba(60, 64, 67, 0.15);\n",
              "      fill: #174EA6;\n",
              "    }\n",
              "\n",
              "    [theme=dark] .colab-df-convert {\n",
              "      background-color: #3B4455;\n",
              "      fill: #D2E3FC;\n",
              "    }\n",
              "\n",
              "    [theme=dark] .colab-df-convert:hover {\n",
              "      background-color: #434B5C;\n",
              "      box-shadow: 0px 1px 3px 1px rgba(0, 0, 0, 0.15);\n",
              "      filter: drop-shadow(0px 1px 2px rgba(0, 0, 0, 0.3));\n",
              "      fill: #FFFFFF;\n",
              "    }\n",
              "  </style>\n",
              "\n",
              "      <script>\n",
              "        const buttonEl =\n",
              "          document.querySelector('#df-c9d75530-e55c-45b1-883d-0a3afe375f80 button.colab-df-convert');\n",
              "        buttonEl.style.display =\n",
              "          google.colab.kernel.accessAllowed ? 'block' : 'none';\n",
              "\n",
              "        async function convertToInteractive(key) {\n",
              "          const element = document.querySelector('#df-c9d75530-e55c-45b1-883d-0a3afe375f80');\n",
              "          const dataTable =\n",
              "            await google.colab.kernel.invokeFunction('convertToInteractive',\n",
              "                                                     [key], {});\n",
              "          if (!dataTable) return;\n",
              "\n",
              "          const docLinkHtml = 'Like what you see? Visit the ' +\n",
              "            '<a target=\"_blank\" href=https://colab.research.google.com/notebooks/data_table.ipynb>data table notebook</a>'\n",
              "            + ' to learn more about interactive tables.';\n",
              "          element.innerHTML = '';\n",
              "          dataTable['output_type'] = 'display_data';\n",
              "          await google.colab.output.renderOutput(dataTable, element);\n",
              "          const docLink = document.createElement('div');\n",
              "          docLink.innerHTML = docLinkHtml;\n",
              "          element.appendChild(docLink);\n",
              "        }\n",
              "      </script>\n",
              "    </div>\n",
              "  </div>\n",
              "  "
            ]
          },
          "metadata": {},
          "execution_count": 51
        }
      ]
    },
    {
      "cell_type": "markdown",
      "metadata": {
        "id": "uF_jw5li_dv4"
      },
      "source": [
        "**Qn 8.** Based on the dataset in Qn 7, what is the mode of the add_num?\n",
        "\n",
        "How about the mode of all winning numbers (All from wn1 to wn6 and add_num, you should have only 1 mode)?  \n",
        "\n",
        "*hint: it could be better to output all numbers to a list, before converting the list to a pandas dataframe.\n",
        "\n",
        "*hint 2: to_numpy() converts dataframe to numpy array.\n"
      ]
    },
    {
      "cell_type": "code",
      "execution_count": 52,
      "metadata": {
        "id": "L2mioQuV_8wu",
        "colab": {
          "base_uri": "https://localhost:8080/"
        },
        "outputId": "c1ccae91-61d1-4dd9-8cc2-9580ec30b8b4"
      },
      "outputs": [
        {
          "output_type": "stream",
          "name": "stdout",
          "text": [
            "Mode of add_num : 29\n",
            "\n",
            "the mode of all winning numbers is 40\n"
          ]
        }
      ],
      "source": [
        "import numpy as np\n",
        "from scipy import stats\n",
        "\n",
        "# Write your answer for Q8 here\n",
        "\n",
        "# mode of additional number\n",
        "add_num_mode = stats.mode(df['add_num'], keepdims = True)[0][0]\n",
        "print(f\"Mode of add_num : {add_num_mode}\")\n",
        "print()\n",
        "\n",
        "# mode for all winning numbers\n",
        "# to_numpy() method to convert dataframe to array\n",
        "all_wn_list = []\n",
        "df_array = df[['wn1', 'wn2', 'wn3', 'wn4', 'wn5', 'wn6', 'add_num']].to_numpy()\n",
        "\n",
        "for dim in df_array:\n",
        "    for element in dim:\n",
        "        all_wn_list.append(element)\n",
        "\n",
        "wn_mode = stats.mode(all_wn_list, keepdims = True)\n",
        "print(f'the mode of all winning numbers is {wn_mode[0][0]}')"
      ]
    },
    {
      "cell_type": "markdown",
      "metadata": {
        "id": "lji2MDZwtb9R"
      },
      "source": [
        "**Qn 9.** Plot the histogram of the winning numbers + additional number.\n",
        "\n",
        "What distribution does it looks like? "
      ]
    },
    {
      "cell_type": "code",
      "execution_count": 53,
      "metadata": {
        "id": "-O4YzTQQthPO",
        "colab": {
          "base_uri": "https://localhost:8080/",
          "height": 452
        },
        "outputId": "8d83d46a-2080-4007-a3cd-0e91cc7e4918"
      },
      "outputs": [
        {
          "output_type": "display_data",
          "data": {
            "text/plain": [
              "<Figure size 640x480 with 1 Axes>"
            ],
            "image/png": "[encoded data removed]"
          },
          "metadata": {}
        }
      ],
      "source": [
        "from matplotlib import pyplot as plt\n",
        "\n",
        "# Write your answer for Q9 here\n",
        "\n",
        "x_values = [1, 10, 22, 27, 35, 49, 29]\n",
        "plt.hist(all_wn_list, bins = 49)\n",
        "plt.title('The histogram of all winning numbers in Toto')\n",
        "\n",
        "plt.show()"
      ]
    },
    {
      "cell_type": "markdown",
      "metadata": {
        "id": "dBeuP43uCHJZ"
      },
      "source": [
        "**Qn 10.** Find the mean prize per winner in each of Group 1 to 4 won? Should you account for multiple winners in a group each draw?\n",
        "\n",
        "Definitions: \n",
        "\n",
        "* **groupX_winners**: Number of winners in Group X (1, 2, 3, 4, 5, 6, 7)\n",
        "* **groupX_prize**: Amount of prize won per winner in each Group X (1, 2, 3, 4, 5, 6, 7)\n",
        "\n",
        "\n"
      ]
    },
    {
      "cell_type": "code",
      "execution_count": 54,
      "metadata": {
        "id": "C-qWHm5fCPqY",
        "colab": {
          "base_uri": "https://localhost:8080/"
        },
        "outputId": "3145b407-227a-41fb-8e35-21908cc43468"
      },
      "outputs": [
        {
          "output_type": "stream",
          "name": "stdout",
          "text": [
            "The mean of Group 1 prize is 1120159.257104195.\n",
            "The mean of Group 2 prize is 191939.0649526387.\n",
            "The mean of Group 3 prize is 1762.7699594046007.\n",
            "The mean of Group 4 prize is 380.1258457374831.\n"
          ]
        }
      ],
      "source": [
        "# Write your answer for Q10 here\n",
        "\n",
        "# Calculate the mean prize per winner for Group 1 to 4\n",
        "group1_mean_prize_per_winner = df['g1_prize'].mean()\n",
        "group2_mean_prize_per_winner = df['g2_prize'].mean()\n",
        "group3_mean_prize_per_winner = df['g3_prize'].mean()\n",
        "group4_mean_prize_per_winner = df['g4_prize'].mean()\n",
        "\n",
        "print(f\"The mean of Group 1 prize is {group1_mean_prize_per_winner}.\")\n",
        "print(f\"The mean of Group 2 prize is {group2_mean_prize_per_winner}.\")\n",
        "print(f\"The mean of Group 3 prize is {group3_mean_prize_per_winner}.\")\n",
        "print(f\"The mean of Group 4 prize is {group4_mean_prize_per_winner}.\")"
      ]
    },
    {
      "cell_type": "code",
      "source": [
        "# if we just use the mean of groupX_prize, we will miss out\n",
        "# the issue of multiple winners in a draw\n",
        "\n",
        "# An alternative (better) way is to find the total sum won for all draws\n",
        "# then divide it by the total number of winners.\n",
        "\n",
        "groups = [1, 2, 3, 4]\n",
        "for group in groups:\n",
        "    df[f'g{group}_total_prize'] = df[f'g{group}_winners'] * df[f'g{group}_prize']\n",
        "\n",
        "g1_total_sum = df['g1_total_prize'].sum()\n",
        "\n",
        "g1_total_winners = df['g1_winners'].sum()\n",
        "\n",
        "g1_mean_prize = g1_total_sum / g1_total_winners\n",
        "\n",
        "print(f'Group 1 mean prize per winner is {g1}')"
      ],
      "metadata": {
        "colab": {
          "base_uri": "https://localhost:8080/"
        },
        "id": "1wiBJ9W_Ddff",
        "outputId": "13994e86-46e0-41d1-a78c-286611e73825"
      },
      "execution_count": 55,
      "outputs": [
        {
          "output_type": "stream",
          "name": "stdout",
          "text": [
            "Group 1 mean prize per winner is 13983816\n"
          ]
        }
      ]
    },
    {
      "cell_type": "markdown",
      "metadata": {
        "id": "W5pnCariCirf"
      },
      "source": [
        "**Qn 11.** Using the means you calculated in Q10, and noting that winning Group 5 will give you SGD 50, Group 6 will give you SGD 25 and Group 7 will give you SGD 10, what is the expected net value of toto?\n",
        "\n",
        "The probabilities of winning each group is given as well.\n"
      ]
    },
    {
      "cell_type": "code",
      "execution_count": 56,
      "metadata": {
        "id": "BbgoaNv3DCYj",
        "colab": {
          "base_uri": "https://localhost:8080/"
        },
        "outputId": "6ce0be3e-3e36-4420-f043-69e4897ffc80"
      },
      "outputs": [
        {
          "output_type": "stream",
          "name": "stdout",
          "text": [
            "-0.5477586952977764\n"
          ]
        }
      ],
      "source": [
        "g1_prob = 1/13983816\n",
        "g2_prob = 1/2330636\n",
        "g3_prob = 1/55491\n",
        "g4_prob = 1/22197\n",
        "g5_prob = 1/1083\n",
        "g6_prob = 1/812\n",
        "g7_prob = 1/61\n",
        "\n",
        "g5_prize = 50\n",
        "g6_prize = 25\n",
        "g7_prize = 10\n",
        "\n",
        "# Write your answer for Q11 here\n",
        "\n",
        "g1_expected_value = g1_prob * group1_mean_prize_per_winner\n",
        "g2_expected_value = g2_prob * group2_mean_prize_per_winner\n",
        "g3_expected_value = g3_prob * group3_mean_prize_per_winner\n",
        "g4_expected_value = g4_prob * group4_mean_prize_per_winner\n",
        "g5_expected_value = g5_prob * g5_prize\n",
        "g6_expected_value = g6_prob * g6_prize\n",
        "g7_expected_value = g7_prob * g7_prize\n",
        "\n",
        "total_expected_value = g1_expected_value + g2_expected_value + g3_expected_value + g4_expected_value + g5_expected_value + g6_expected_value + g7_expected_value\n",
        "\n",
        "expected_net_value = total_expected_value - 1\n",
        "\n",
        "print(expected_net_value)"
      ]
    },
    {
      "cell_type": "markdown",
      "metadata": {
        "id": "AIEdUfpkvuBV"
      },
      "source": [
        "**Qn 12.** Is toto a good game to bet on? and why?"
      ]
    },
    {
      "cell_type": "code",
      "execution_count": 57,
      "metadata": {
        "id": "Q1hxkTfTv2jH",
        "colab": {
          "base_uri": "https://localhost:8080/"
        },
        "outputId": "ba4ec939-cf27-4593-8a37-7bce58fc070f"
      },
      "outputs": [
        {
          "output_type": "stream",
          "name": "stdout",
          "text": [
            "Based on the expected net value, Toto doesn't even qualify as a zero sum game.  Its negative.\n",
            "One of the best performing assets for the past 14 years == bitcoin\n",
            "A rather sad reality for common folk whom are not tech inclined and oblivious to what's happening in that space.\n",
            "Their probability in achieving escape velocity is low.\n",
            "Coupled with lack of wisdom, Toto remains the poison of choice for the common man.\n"
          ]
        }
      ],
      "source": [
        "# Write your answer for Q12 here\n",
        "print(f\"Based on the expected net value, Toto doesn't even qualify as a zero sum game.  Its negative.\\nOne of the best performing assets for the past 14 years == bitcoin\\nA rather sad reality for common folk whom are not tech inclined and oblivious to what's happening in that space.\\nTheir probability in achieving escape velocity is low.\\nCoupled with lack of wisdom, Toto remains the poison of choice for the common man.\")"
      ]
    }
  ],
  "metadata": {
    "colab": {
      "provenance": []
    },
    "kernelspec": {
      "display_name": "Python 3 (ipykernel)",
      "language": "python",
      "name": "python3"
    },
    "language_info": {
      "codemirror_mode": {
        "name": "ipython",
        "version": 3
      },
      "file_extension": ".py",
      "mimetype": "text/x-python",
      "name": "python",
      "nbconvert_exporter": "python",
      "pygments_lexer": "ipython3",
      "version": "3.10.4"
    }
  },
  "nbformat": 4,
  "nbformat_minor": 0
}